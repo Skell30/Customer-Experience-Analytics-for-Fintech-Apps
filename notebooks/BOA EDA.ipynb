{
 "cells": [
  {
   "cell_type": "code",
   "execution_count": 3,
   "id": "08b0e505",
   "metadata": {},
   "outputs": [],
   "source": [
    "import pandas as pd\n",
    "import matplotlib.pyplot as plt\n",
    "import sys\n",
    "import os\n",
    "sys.path.append(os.path.abspath(\"..\"))\n",
    "from scripts.play_store_scraper import BankReviewScraper\n",
    "from langdetect import detect, DetectorFactory\n",
    "from langdetect.lang_detect_exception import LangDetectException\n",
    "\n",
    "from nltk.sentiment.vader import SentimentIntensityAnalyzer\n",
    "import nltk\n",
    "from nltk.corpus import stopwords\n",
    "from nltk.tokenize import word_tokenize\n",
    "import string\n",
    "from collections import Counter\n",
    "from nltk.corpus import stopwords"
   ]
  },
  {
   "cell_type": "code",
   "execution_count": 5,
   "id": "3ec5c033",
   "metadata": {},
   "outputs": [],
   "source": [
    "bank = 'BOA'\n",
    "app_id = 'com.boa.boaMobileBanking'\n",
    "\n",
    "raw_path = '../data/raw/BOA_raw_reviews.csv'"
   ]
  },
  {
   "cell_type": "code",
   "execution_count": 6,
   "id": "a6a32a79",
   "metadata": {},
   "outputs": [
    {
     "name": "stdout",
     "output_type": "stream",
     "text": [
      "450\n"
     ]
    },
    {
     "data": {
      "text/html": [
       "<div>\n",
       "<style scoped>\n",
       "    .dataframe tbody tr th:only-of-type {\n",
       "        vertical-align: middle;\n",
       "    }\n",
       "\n",
       "    .dataframe tbody tr th {\n",
       "        vertical-align: top;\n",
       "    }\n",
       "\n",
       "    .dataframe thead th {\n",
       "        text-align: right;\n",
       "    }\n",
       "</style>\n",
       "<table border=\"1\" class=\"dataframe\">\n",
       "  <thead>\n",
       "    <tr style=\"text-align: right;\">\n",
       "      <th></th>\n",
       "      <th>review</th>\n",
       "      <th>rating</th>\n",
       "      <th>date</th>\n",
       "      <th>bank</th>\n",
       "      <th>source</th>\n",
       "    </tr>\n",
       "  </thead>\n",
       "  <tbody>\n",
       "    <tr>\n",
       "      <th>0</th>\n",
       "      <td>the worst app humans ever created</td>\n",
       "      <td>1</td>\n",
       "      <td>2025-06-09 16:27:28</td>\n",
       "      <td>BOA</td>\n",
       "      <td>Google Play</td>\n",
       "    </tr>\n",
       "    <tr>\n",
       "      <th>1</th>\n",
       "      <td>it's not working</td>\n",
       "      <td>3</td>\n",
       "      <td>2025-06-05 11:57:36</td>\n",
       "      <td>BOA</td>\n",
       "      <td>Google Play</td>\n",
       "    </tr>\n",
       "    <tr>\n",
       "      <th>2</th>\n",
       "      <td>Hello, I’m facing a problem with the BOA Mobil...</td>\n",
       "      <td>1</td>\n",
       "      <td>2025-06-03 16:21:34</td>\n",
       "      <td>BOA</td>\n",
       "      <td>Google Play</td>\n",
       "    </tr>\n",
       "    <tr>\n",
       "      <th>3</th>\n",
       "      <td>exceptional</td>\n",
       "      <td>5</td>\n",
       "      <td>2025-06-03 10:32:35</td>\n",
       "      <td>BOA</td>\n",
       "      <td>Google Play</td>\n",
       "    </tr>\n",
       "    <tr>\n",
       "      <th>4</th>\n",
       "      <td>BoA Mobile good bank</td>\n",
       "      <td>5</td>\n",
       "      <td>2025-06-02 14:25:12</td>\n",
       "      <td>BOA</td>\n",
       "      <td>Google Play</td>\n",
       "    </tr>\n",
       "  </tbody>\n",
       "</table>\n",
       "</div>"
      ],
      "text/plain": [
       "                                              review  rating  \\\n",
       "0                  the worst app humans ever created       1   \n",
       "1                                   it's not working       3   \n",
       "2  Hello, I’m facing a problem with the BOA Mobil...       1   \n",
       "3                                        exceptional       5   \n",
       "4                               BoA Mobile good bank       5   \n",
       "\n",
       "                 date bank       source  \n",
       "0 2025-06-09 16:27:28  BOA  Google Play  \n",
       "1 2025-06-05 11:57:36  BOA  Google Play  \n",
       "2 2025-06-03 16:21:34  BOA  Google Play  \n",
       "3 2025-06-03 10:32:35  BOA  Google Play  \n",
       "4 2025-06-02 14:25:12  BOA  Google Play  "
      ]
     },
     "execution_count": 6,
     "metadata": {},
     "output_type": "execute_result"
    }
   ],
   "source": [
    "scraper = BankReviewScraper(app_id, bank)\n",
    "df = scraper.fetch_reviews(450)\n",
    "print(len(df))\n",
    "df.head()"
   ]
  },
  {
   "cell_type": "code",
   "execution_count": 8,
   "id": "266503e9",
   "metadata": {},
   "outputs": [],
   "source": [
    "# Save raw data\n",
    "os.makedirs('../data/raw', exist_ok=True)\n",
    "df.to_csv(raw_path, index=False)"
   ]
  },
  {
   "cell_type": "code",
   "execution_count": 9,
   "id": "d46f43e9",
   "metadata": {},
   "outputs": [
    {
     "data": {
      "text/html": [
       "<div>\n",
       "<style scoped>\n",
       "    .dataframe tbody tr th:only-of-type {\n",
       "        vertical-align: middle;\n",
       "    }\n",
       "\n",
       "    .dataframe tbody tr th {\n",
       "        vertical-align: top;\n",
       "    }\n",
       "\n",
       "    .dataframe thead th {\n",
       "        text-align: right;\n",
       "    }\n",
       "</style>\n",
       "<table border=\"1\" class=\"dataframe\">\n",
       "  <thead>\n",
       "    <tr style=\"text-align: right;\">\n",
       "      <th></th>\n",
       "      <th>review</th>\n",
       "      <th>rating</th>\n",
       "      <th>date</th>\n",
       "      <th>bank</th>\n",
       "      <th>source</th>\n",
       "    </tr>\n",
       "  </thead>\n",
       "  <tbody>\n",
       "    <tr>\n",
       "      <th>0</th>\n",
       "      <td>it's not working</td>\n",
       "      <td>3</td>\n",
       "      <td>2025-06-05 11:57:36</td>\n",
       "      <td>BOA</td>\n",
       "      <td>Google Play</td>\n",
       "    </tr>\n",
       "    <tr>\n",
       "      <th>1</th>\n",
       "      <td>Hello, I’m facing a problem with the BOA Mobil...</td>\n",
       "      <td>1</td>\n",
       "      <td>2025-06-03 16:21:34</td>\n",
       "      <td>BOA</td>\n",
       "      <td>Google Play</td>\n",
       "    </tr>\n",
       "    <tr>\n",
       "      <th>2</th>\n",
       "      <td>exceptional</td>\n",
       "      <td>5</td>\n",
       "      <td>2025-06-03 10:32:35</td>\n",
       "      <td>BOA</td>\n",
       "      <td>Google Play</td>\n",
       "    </tr>\n",
       "    <tr>\n",
       "      <th>3</th>\n",
       "      <td>BoA Mobile good bank</td>\n",
       "      <td>5</td>\n",
       "      <td>2025-06-02 14:25:12</td>\n",
       "      <td>BOA</td>\n",
       "      <td>Google Play</td>\n",
       "    </tr>\n",
       "    <tr>\n",
       "      <th>4</th>\n",
       "      <td>this is worest app 24/7 loading</td>\n",
       "      <td>1</td>\n",
       "      <td>2025-06-01 15:51:10</td>\n",
       "      <td>BOA</td>\n",
       "      <td>Google Play</td>\n",
       "    </tr>\n",
       "    <tr>\n",
       "      <th>...</th>\n",
       "      <td>...</td>\n",
       "      <td>...</td>\n",
       "      <td>...</td>\n",
       "      <td>...</td>\n",
       "      <td>...</td>\n",
       "    </tr>\n",
       "    <tr>\n",
       "      <th>445</th>\n",
       "      <td>the app used to run fine, but now it takes lik...</td>\n",
       "      <td>1</td>\n",
       "      <td>2024-06-27 23:33:38</td>\n",
       "      <td>BOA</td>\n",
       "      <td>Google Play</td>\n",
       "    </tr>\n",
       "    <tr>\n",
       "      <th>446</th>\n",
       "      <td>the underrated app I've ever seen and ur banki...</td>\n",
       "      <td>1</td>\n",
       "      <td>2024-06-27 21:27:52</td>\n",
       "      <td>BOA</td>\n",
       "      <td>Google Play</td>\n",
       "    </tr>\n",
       "    <tr>\n",
       "      <th>447</th>\n",
       "      <td>It demands to disable developer option.</td>\n",
       "      <td>1</td>\n",
       "      <td>2024-06-27 19:09:58</td>\n",
       "      <td>BOA</td>\n",
       "      <td>Google Play</td>\n",
       "    </tr>\n",
       "    <tr>\n",
       "      <th>448</th>\n",
       "      <td>It's been two months now, I cannot do any tran...</td>\n",
       "      <td>1</td>\n",
       "      <td>2024-06-26 18:45:58</td>\n",
       "      <td>BOA</td>\n",
       "      <td>Google Play</td>\n",
       "    </tr>\n",
       "    <tr>\n",
       "      <th>449</th>\n",
       "      <td>Open Open service</td>\n",
       "      <td>5</td>\n",
       "      <td>2024-06-26 00:57:45</td>\n",
       "      <td>BOA</td>\n",
       "      <td>Google Play</td>\n",
       "    </tr>\n",
       "  </tbody>\n",
       "</table>\n",
       "<p>450 rows × 5 columns</p>\n",
       "</div>"
      ],
      "text/plain": [
       "                                                review  rating  \\\n",
       "0                                     it's not working       3   \n",
       "1    Hello, I’m facing a problem with the BOA Mobil...       1   \n",
       "2                                          exceptional       5   \n",
       "3                                 BoA Mobile good bank       5   \n",
       "4                      this is worest app 24/7 loading       1   \n",
       "..                                                 ...     ...   \n",
       "445  the app used to run fine, but now it takes lik...       1   \n",
       "446  the underrated app I've ever seen and ur banki...       1   \n",
       "447            It demands to disable developer option.       1   \n",
       "448  It's been two months now, I cannot do any tran...       1   \n",
       "449                                  Open Open service       5   \n",
       "\n",
       "                   date bank       source  \n",
       "0   2025-06-05 11:57:36  BOA  Google Play  \n",
       "1   2025-06-03 16:21:34  BOA  Google Play  \n",
       "2   2025-06-03 10:32:35  BOA  Google Play  \n",
       "3   2025-06-02 14:25:12  BOA  Google Play  \n",
       "4   2025-06-01 15:51:10  BOA  Google Play  \n",
       "..                  ...  ...          ...  \n",
       "445 2024-06-27 23:33:38  BOA  Google Play  \n",
       "446 2024-06-27 21:27:52  BOA  Google Play  \n",
       "447 2024-06-27 19:09:58  BOA  Google Play  \n",
       "448 2024-06-26 18:45:58  BOA  Google Play  \n",
       "449 2024-06-26 00:57:45  BOA  Google Play  \n",
       "\n",
       "[450 rows x 5 columns]"
      ]
     },
     "execution_count": 9,
     "metadata": {},
     "output_type": "execute_result"
    }
   ],
   "source": [
    "df.dropna()\n",
    "df.drop_duplicates()"
   ]
  },
  {
   "cell_type": "code",
   "execution_count": 10,
   "id": "65cd1cb6",
   "metadata": {},
   "outputs": [
    {
     "name": "stdout",
     "output_type": "stream",
     "text": [
      "<class 'pandas.core.frame.DataFrame'>\n",
      "RangeIndex: 450 entries, 0 to 449\n",
      "Data columns (total 5 columns):\n",
      " #   Column  Non-Null Count  Dtype         \n",
      "---  ------  --------------  -----         \n",
      " 0   review  450 non-null    object        \n",
      " 1   rating  450 non-null    int64         \n",
      " 2   date    450 non-null    datetime64[ns]\n",
      " 3   bank    450 non-null    object        \n",
      " 4   source  450 non-null    object        \n",
      "dtypes: datetime64[ns](1), int64(1), object(3)\n",
      "memory usage: 17.7+ KB\n"
     ]
    }
   ],
   "source": [
    "df.info()"
   ]
  },
  {
   "cell_type": "code",
   "execution_count": 16,
   "id": "c78adb1a",
   "metadata": {},
   "outputs": [
    {
     "data": {
      "text/plain": [
       "rating\n",
       "5    197\n",
       "1    189\n",
       "3     33\n",
       "4     18\n",
       "2     13\n",
       "Name: count, dtype: int64"
      ]
     },
     "execution_count": 16,
     "metadata": {},
     "output_type": "execute_result"
    }
   ],
   "source": [
    "df.value_counts('rating')"
   ]
  },
  {
   "cell_type": "code",
   "execution_count": 7,
   "id": "60c6e6e2",
   "metadata": {},
   "outputs": [
    {
     "name": "stdout",
     "output_type": "stream",
     "text": [
      "3.037777777777778\n"
     ]
    }
   ],
   "source": [
    "print(df['rating'].mean())"
   ]
  },
  {
   "cell_type": "code",
   "execution_count": 8,
   "id": "f2a03bea",
   "metadata": {},
   "outputs": [],
   "source": [
    "#for consistent result\n",
    "DetectorFactory.seed = 0"
   ]
  },
  {
   "cell_type": "code",
   "execution_count": 9,
   "id": "c2339c52",
   "metadata": {},
   "outputs": [],
   "source": [
    "def detect_language(review):\n",
    "    try:\n",
    "        return detect(review)\n",
    "    except LangDetectException:\n",
    "        return \"error\""
   ]
  },
  {
   "cell_type": "code",
   "execution_count": 10,
   "id": "4ed86e1e",
   "metadata": {},
   "outputs": [],
   "source": [
    "df['language'] = df['review'].apply(detect_language)"
   ]
  },
  {
   "cell_type": "code",
   "execution_count": 11,
   "id": "2a369852",
   "metadata": {},
   "outputs": [],
   "source": [
    "df_clean = df[df['language'] == 'en'].drop(columns='language')"
   ]
  },
  {
   "cell_type": "code",
   "execution_count": 12,
   "id": "7b7d7636",
   "metadata": {},
   "outputs": [
    {
     "data": {
      "text/html": [
       "<div>\n",
       "<style scoped>\n",
       "    .dataframe tbody tr th:only-of-type {\n",
       "        vertical-align: middle;\n",
       "    }\n",
       "\n",
       "    .dataframe tbody tr th {\n",
       "        vertical-align: top;\n",
       "    }\n",
       "\n",
       "    .dataframe thead th {\n",
       "        text-align: right;\n",
       "    }\n",
       "</style>\n",
       "<table border=\"1\" class=\"dataframe\">\n",
       "  <thead>\n",
       "    <tr style=\"text-align: right;\">\n",
       "      <th></th>\n",
       "      <th>review</th>\n",
       "      <th>rating</th>\n",
       "      <th>date</th>\n",
       "      <th>bank</th>\n",
       "      <th>source</th>\n",
       "    </tr>\n",
       "  </thead>\n",
       "  <tbody>\n",
       "    <tr>\n",
       "      <th>448</th>\n",
       "      <td>It demands to disable developer option.</td>\n",
       "      <td>1</td>\n",
       "      <td>2024-06-27 19:09:58</td>\n",
       "      <td>BOA</td>\n",
       "      <td>Google Play</td>\n",
       "    </tr>\n",
       "    <tr>\n",
       "      <th>449</th>\n",
       "      <td>It's been two months now, I cannot do any tran...</td>\n",
       "      <td>1</td>\n",
       "      <td>2024-06-26 18:45:58</td>\n",
       "      <td>BOA</td>\n",
       "      <td>Google Play</td>\n",
       "    </tr>\n",
       "  </tbody>\n",
       "</table>\n",
       "</div>"
      ],
      "text/plain": [
       "                                                review  rating  \\\n",
       "448            It demands to disable developer option.       1   \n",
       "449  It's been two months now, I cannot do any tran...       1   \n",
       "\n",
       "                   date bank       source  \n",
       "448 2024-06-27 19:09:58  BOA  Google Play  \n",
       "449 2024-06-26 18:45:58  BOA  Google Play  "
      ]
     },
     "execution_count": 12,
     "metadata": {},
     "output_type": "execute_result"
    }
   ],
   "source": [
    "# filtered data by language\n",
    "df_clean.tail(2)"
   ]
  },
  {
   "cell_type": "code",
   "execution_count": 13,
   "id": "fee7b3ff",
   "metadata": {},
   "outputs": [
    {
     "name": "stdout",
     "output_type": "stream",
     "text": [
      "<class 'pandas.core.frame.DataFrame'>\n",
      "Index: 279 entries, 0 to 449\n",
      "Data columns (total 5 columns):\n",
      " #   Column  Non-Null Count  Dtype         \n",
      "---  ------  --------------  -----         \n",
      " 0   review  279 non-null    object        \n",
      " 1   rating  279 non-null    int64         \n",
      " 2   date    279 non-null    datetime64[ns]\n",
      " 3   bank    279 non-null    object        \n",
      " 4   source  279 non-null    object        \n",
      "dtypes: datetime64[ns](1), int64(1), object(3)\n",
      "memory usage: 13.1+ KB\n",
      "None\n"
     ]
    }
   ],
   "source": [
    "print(df_clean.info())"
   ]
  },
  {
   "cell_type": "code",
   "execution_count": 14,
   "id": "2b43a22a",
   "metadata": {},
   "outputs": [
    {
     "data": {
      "text/plain": [
       "review    279\n",
       "rating    279\n",
       "date      279\n",
       "bank      279\n",
       "source    279\n",
       "dtype: int64"
      ]
     },
     "execution_count": 14,
     "metadata": {},
     "output_type": "execute_result"
    }
   ],
   "source": [
    "df_clean.count()"
   ]
  },
  {
   "cell_type": "code",
   "execution_count": 15,
   "id": "dfabe72d",
   "metadata": {},
   "outputs": [
    {
     "data": {
      "text/plain": [
       "review    0\n",
       "rating    0\n",
       "date      0\n",
       "bank      0\n",
       "source    0\n",
       "dtype: int64"
      ]
     },
     "execution_count": 15,
     "metadata": {},
     "output_type": "execute_result"
    }
   ],
   "source": [
    "df_clean.isnull().sum()"
   ]
  },
  {
   "cell_type": "code",
   "execution_count": 16,
   "id": "c3ceedc8",
   "metadata": {},
   "outputs": [
    {
     "data": {
      "text/plain": [
       "(279, 5)"
      ]
     },
     "execution_count": 16,
     "metadata": {},
     "output_type": "execute_result"
    }
   ],
   "source": [
    "df_clean.shape"
   ]
  },
  {
   "cell_type": "code",
   "execution_count": 17,
   "id": "b7b8b720",
   "metadata": {},
   "outputs": [],
   "source": [
    "df_clean.to_csv('cleaned_data.csv', index=False)"
   ]
  },
  {
   "cell_type": "code",
   "execution_count": 18,
   "id": "3535bf98",
   "metadata": {},
   "outputs": [
    {
     "name": "stderr",
     "output_type": "stream",
     "text": [
      "[nltk_data] Downloading package vader_lexicon to\n",
      "[nltk_data]     C:\\Users\\pc\\AppData\\Roaming\\nltk_data...\n",
      "[nltk_data]   Package vader_lexicon is already up-to-date!\n"
     ]
    }
   ],
   "source": [
    "nltk.download('vader_lexicon')\n",
    "sia = SentimentIntensityAnalyzer()"
   ]
  },
  {
   "cell_type": "code",
   "execution_count": 19,
   "id": "d90ba19d",
   "metadata": {},
   "outputs": [],
   "source": [
    "# Function to classify sentiment\n",
    "def get_sentiment(score):\n",
    "    if score > 0.05:\n",
    "        return 'Positive'\n",
    "    elif score < -0.05:\n",
    "        return 'Negative'\n",
    "    else:\n",
    "        return 'Neutral'"
   ]
  },
  {
   "cell_type": "code",
   "execution_count": 20,
   "id": "57db7d6c",
   "metadata": {},
   "outputs": [],
   "source": [
    "df_clean['review'] = df_clean['review'].astype(str)"
   ]
  },
  {
   "cell_type": "code",
   "execution_count": 21,
   "id": "9f4960f8",
   "metadata": {},
   "outputs": [],
   "source": [
    "df_clean['sentiment_score'] = df_clean['review'].apply(lambda x: sia.polarity_scores(x)['compound'])\n",
    "df_clean['sentiment'] = df_clean['sentiment_score'].apply(get_sentiment)"
   ]
  },
  {
   "cell_type": "code",
   "execution_count": 22,
   "id": "9616afde",
   "metadata": {},
   "outputs": [
    {
     "data": {
      "text/html": [
       "<div>\n",
       "<style scoped>\n",
       "    .dataframe tbody tr th:only-of-type {\n",
       "        vertical-align: middle;\n",
       "    }\n",
       "\n",
       "    .dataframe tbody tr th {\n",
       "        vertical-align: top;\n",
       "    }\n",
       "\n",
       "    .dataframe thead th {\n",
       "        text-align: right;\n",
       "    }\n",
       "</style>\n",
       "<table border=\"1\" class=\"dataframe\">\n",
       "  <thead>\n",
       "    <tr style=\"text-align: right;\">\n",
       "      <th></th>\n",
       "      <th>review</th>\n",
       "      <th>rating</th>\n",
       "      <th>date</th>\n",
       "      <th>bank</th>\n",
       "      <th>source</th>\n",
       "      <th>sentiment_score</th>\n",
       "      <th>sentiment</th>\n",
       "    </tr>\n",
       "  </thead>\n",
       "  <tbody>\n",
       "    <tr>\n",
       "      <th>0</th>\n",
       "      <td>the worst app humans ever created</td>\n",
       "      <td>1</td>\n",
       "      <td>2025-06-09 16:27:28</td>\n",
       "      <td>BOA</td>\n",
       "      <td>Google Play</td>\n",
       "      <td>-0.4767</td>\n",
       "      <td>Negative</td>\n",
       "    </tr>\n",
       "    <tr>\n",
       "      <th>2</th>\n",
       "      <td>Hello, I’m facing a problem with the BOA Mobil...</td>\n",
       "      <td>1</td>\n",
       "      <td>2025-06-03 16:21:34</td>\n",
       "      <td>BOA</td>\n",
       "      <td>Google Play</td>\n",
       "      <td>-0.1884</td>\n",
       "      <td>Negative</td>\n",
       "    </tr>\n",
       "    <tr>\n",
       "      <th>5</th>\n",
       "      <td>this is worest app 24/7 loading</td>\n",
       "      <td>1</td>\n",
       "      <td>2025-06-01 15:51:10</td>\n",
       "      <td>BOA</td>\n",
       "      <td>Google Play</td>\n",
       "      <td>0.0000</td>\n",
       "      <td>Neutral</td>\n",
       "    </tr>\n",
       "    <tr>\n",
       "      <th>6</th>\n",
       "      <td>This App is not interest for Android phone Ple...</td>\n",
       "      <td>1</td>\n",
       "      <td>2025-06-01 10:17:10</td>\n",
       "      <td>BOA</td>\n",
       "      <td>Google Play</td>\n",
       "      <td>-0.0464</td>\n",
       "      <td>Neutral</td>\n",
       "    </tr>\n",
       "    <tr>\n",
       "      <th>7</th>\n",
       "      <td>BoA system is confartable</td>\n",
       "      <td>5</td>\n",
       "      <td>2025-06-01 00:47:32</td>\n",
       "      <td>BOA</td>\n",
       "      <td>Google Play</td>\n",
       "      <td>0.0000</td>\n",
       "      <td>Neutral</td>\n",
       "    </tr>\n",
       "    <tr>\n",
       "      <th>...</th>\n",
       "      <td>...</td>\n",
       "      <td>...</td>\n",
       "      <td>...</td>\n",
       "      <td>...</td>\n",
       "      <td>...</td>\n",
       "      <td>...</td>\n",
       "      <td>...</td>\n",
       "    </tr>\n",
       "    <tr>\n",
       "      <th>444</th>\n",
       "      <td>This app doesn't work</td>\n",
       "      <td>1</td>\n",
       "      <td>2024-06-30 13:39:50</td>\n",
       "      <td>BOA</td>\n",
       "      <td>Google Play</td>\n",
       "      <td>0.0000</td>\n",
       "      <td>Neutral</td>\n",
       "    </tr>\n",
       "    <tr>\n",
       "      <th>446</th>\n",
       "      <td>the app used to run fine, but now it takes lik...</td>\n",
       "      <td>1</td>\n",
       "      <td>2024-06-27 23:33:38</td>\n",
       "      <td>BOA</td>\n",
       "      <td>Google Play</td>\n",
       "      <td>0.5647</td>\n",
       "      <td>Positive</td>\n",
       "    </tr>\n",
       "    <tr>\n",
       "      <th>447</th>\n",
       "      <td>the underrated app I've ever seen and ur banki...</td>\n",
       "      <td>1</td>\n",
       "      <td>2024-06-27 21:27:52</td>\n",
       "      <td>BOA</td>\n",
       "      <td>Google Play</td>\n",
       "      <td>0.0000</td>\n",
       "      <td>Neutral</td>\n",
       "    </tr>\n",
       "    <tr>\n",
       "      <th>448</th>\n",
       "      <td>It demands to disable developer option.</td>\n",
       "      <td>1</td>\n",
       "      <td>2024-06-27 19:09:58</td>\n",
       "      <td>BOA</td>\n",
       "      <td>Google Play</td>\n",
       "      <td>0.0000</td>\n",
       "      <td>Neutral</td>\n",
       "    </tr>\n",
       "    <tr>\n",
       "      <th>449</th>\n",
       "      <td>It's been two months now, I cannot do any tran...</td>\n",
       "      <td>1</td>\n",
       "      <td>2024-06-26 18:45:58</td>\n",
       "      <td>BOA</td>\n",
       "      <td>Google Play</td>\n",
       "      <td>-0.8221</td>\n",
       "      <td>Negative</td>\n",
       "    </tr>\n",
       "  </tbody>\n",
       "</table>\n",
       "<p>279 rows × 7 columns</p>\n",
       "</div>"
      ],
      "text/plain": [
       "                                                review  rating  \\\n",
       "0                    the worst app humans ever created       1   \n",
       "2    Hello, I’m facing a problem with the BOA Mobil...       1   \n",
       "5                      this is worest app 24/7 loading       1   \n",
       "6    This App is not interest for Android phone Ple...       1   \n",
       "7                            BoA system is confartable       5   \n",
       "..                                                 ...     ...   \n",
       "444                              This app doesn't work       1   \n",
       "446  the app used to run fine, but now it takes lik...       1   \n",
       "447  the underrated app I've ever seen and ur banki...       1   \n",
       "448            It demands to disable developer option.       1   \n",
       "449  It's been two months now, I cannot do any tran...       1   \n",
       "\n",
       "                   date bank       source  sentiment_score sentiment  \n",
       "0   2025-06-09 16:27:28  BOA  Google Play          -0.4767  Negative  \n",
       "2   2025-06-03 16:21:34  BOA  Google Play          -0.1884  Negative  \n",
       "5   2025-06-01 15:51:10  BOA  Google Play           0.0000   Neutral  \n",
       "6   2025-06-01 10:17:10  BOA  Google Play          -0.0464   Neutral  \n",
       "7   2025-06-01 00:47:32  BOA  Google Play           0.0000   Neutral  \n",
       "..                  ...  ...          ...              ...       ...  \n",
       "444 2024-06-30 13:39:50  BOA  Google Play           0.0000   Neutral  \n",
       "446 2024-06-27 23:33:38  BOA  Google Play           0.5647  Positive  \n",
       "447 2024-06-27 21:27:52  BOA  Google Play           0.0000   Neutral  \n",
       "448 2024-06-27 19:09:58  BOA  Google Play           0.0000   Neutral  \n",
       "449 2024-06-26 18:45:58  BOA  Google Play          -0.8221  Negative  \n",
       "\n",
       "[279 rows x 7 columns]"
      ]
     },
     "execution_count": 22,
     "metadata": {},
     "output_type": "execute_result"
    }
   ],
   "source": [
    "df_clean"
   ]
  },
  {
   "cell_type": "code",
   "execution_count": 23,
   "id": "a69f1e0d",
   "metadata": {},
   "outputs": [],
   "source": [
    "sentiment_counts = df_clean['sentiment'].value_counts()"
   ]
  },
  {
   "cell_type": "code",
   "execution_count": 24,
   "id": "5b322025",
   "metadata": {},
   "outputs": [
    {
     "data": {
      "image/png": "[encoded data removed]",
      "text/plain": [
       "<Figure size 600x400 with 1 Axes>"
      ]
     },
     "metadata": {},
     "output_type": "display_data"
    }
   ],
   "source": [
    "plt.figure(figsize=(6, 4))\n",
    "plt.bar(sentiment_counts.index, sentiment_counts.values, color=['green', 'blue', 'red'])\n",
    "plt.title('Sentiment Distribution of CBE')\n",
    "plt.xlabel('Sentiment')\n",
    "plt.ylabel('Number of Reviews')\n",
    "plt.grid(axis='y', linestyle='--', alpha=0.6)\n",
    "plt.tight_layout()\n",
    "plt.show()"
   ]
  },
  {
   "cell_type": "code",
   "execution_count": null,
   "id": "8ed1f05b",
   "metadata": {},
   "outputs": [],
   "source": []
  }
 ],
 "metadata": {
  "kernelspec": {
   "display_name": "venv",
   "language": "python",
   "name": "python3"
  },
  "language_info": {
   "codemirror_mode": {
    "name": "ipython",
    "version": 3
   },
   "file_extension": ".py",
   "mimetype": "text/x-python",
   "name": "python",
   "nbconvert_exporter": "python",
   "pygments_lexer": "ipython3",
   "version": "3.12.3"
  }
 },
 "nbformat": 4,
 "nbformat_minor": 5
}
