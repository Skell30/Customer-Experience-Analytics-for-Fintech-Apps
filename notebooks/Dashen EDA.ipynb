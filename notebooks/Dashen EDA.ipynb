{
 "cells": [
  {
   "cell_type": "code",
   "execution_count": 1,
   "id": "80fd4e44",
   "metadata": {},
   "outputs": [],
   "source": [
    "import pandas as pd\n",
    "import matplotlib.pyplot as plt\n",
    "import sys\n",
    "import os\n",
    "sys.path.append(os.path.abspath(\"..\"))\n",
    "from scripts.play_store_scraper import BankReviewScraper\n",
    "from langdetect import detect, DetectorFactory\n",
    "from langdetect.lang_detect_exception import LangDetectException\n",
    "\n",
    "from nltk.sentiment.vader import SentimentIntensityAnalyzer\n",
    "import nltk\n",
    "from nltk.corpus import stopwords\n",
    "from nltk.tokenize import word_tokenize\n",
    "import string\n",
    "from collections import Counter\n",
    "from nltk.corpus import stopwords"
   ]
  },
  {
   "cell_type": "code",
   "execution_count": 2,
   "id": "60a99a34",
   "metadata": {},
   "outputs": [],
   "source": [
    "bank = 'Dashen Bank'\n",
    "app_id = 'com.dashen.dashensuperapp'\n",
    "\n",
    "raw_path = '../data/raw/dashen_raw_reviews.csv'"
   ]
  },
  {
   "cell_type": "code",
   "execution_count": 3,
   "id": "fe4662d2",
   "metadata": {},
   "outputs": [
    {
     "name": "stdout",
     "output_type": "stream",
     "text": [
      "450\n"
     ]
    },
    {
     "data": {
      "text/html": [
       "<div>\n",
       "<style scoped>\n",
       "    .dataframe tbody tr th:only-of-type {\n",
       "        vertical-align: middle;\n",
       "    }\n",
       "\n",
       "    .dataframe tbody tr th {\n",
       "        vertical-align: top;\n",
       "    }\n",
       "\n",
       "    .dataframe thead th {\n",
       "        text-align: right;\n",
       "    }\n",
       "</style>\n",
       "<table border=\"1\" class=\"dataframe\">\n",
       "  <thead>\n",
       "    <tr style=\"text-align: right;\">\n",
       "      <th></th>\n",
       "      <th>review</th>\n",
       "      <th>rating</th>\n",
       "      <th>date</th>\n",
       "      <th>bank</th>\n",
       "      <th>source</th>\n",
       "    </tr>\n",
       "  </thead>\n",
       "  <tbody>\n",
       "    <tr>\n",
       "      <th>0</th>\n",
       "      <td>this app is good for you guys</td>\n",
       "      <td>5</td>\n",
       "      <td>2025-06-09 11:49:55</td>\n",
       "      <td>Dashen Bank</td>\n",
       "      <td>Google Play</td>\n",
       "    </tr>\n",
       "    <tr>\n",
       "      <th>1</th>\n",
       "      <td>wow</td>\n",
       "      <td>5</td>\n",
       "      <td>2025-06-09 01:37:09</td>\n",
       "      <td>Dashen Bank</td>\n",
       "      <td>Google Play</td>\n",
       "    </tr>\n",
       "    <tr>\n",
       "      <th>2</th>\n",
       "      <td>kalid</td>\n",
       "      <td>5</td>\n",
       "      <td>2025-06-08 00:04:22</td>\n",
       "      <td>Dashen Bank</td>\n",
       "      <td>Google Play</td>\n",
       "    </tr>\n",
       "    <tr>\n",
       "      <th>3</th>\n",
       "      <td>I like this mobile banking app very much. Over...</td>\n",
       "      <td>2</td>\n",
       "      <td>2025-06-07 10:40:29</td>\n",
       "      <td>Dashen Bank</td>\n",
       "      <td>Google Play</td>\n",
       "    </tr>\n",
       "    <tr>\n",
       "      <th>4</th>\n",
       "      <td>love</td>\n",
       "      <td>3</td>\n",
       "      <td>2025-06-06 00:15:44</td>\n",
       "      <td>Dashen Bank</td>\n",
       "      <td>Google Play</td>\n",
       "    </tr>\n",
       "  </tbody>\n",
       "</table>\n",
       "</div>"
      ],
      "text/plain": [
       "                                              review  rating  \\\n",
       "0                      this app is good for you guys       5   \n",
       "1                                                wow       5   \n",
       "2                                              kalid       5   \n",
       "3  I like this mobile banking app very much. Over...       2   \n",
       "4                                               love       3   \n",
       "\n",
       "                 date         bank       source  \n",
       "0 2025-06-09 11:49:55  Dashen Bank  Google Play  \n",
       "1 2025-06-09 01:37:09  Dashen Bank  Google Play  \n",
       "2 2025-06-08 00:04:22  Dashen Bank  Google Play  \n",
       "3 2025-06-07 10:40:29  Dashen Bank  Google Play  \n",
       "4 2025-06-06 00:15:44  Dashen Bank  Google Play  "
      ]
     },
     "execution_count": 3,
     "metadata": {},
     "output_type": "execute_result"
    }
   ],
   "source": [
    "scraper = BankReviewScraper(app_id, bank)\n",
    "df = scraper.fetch_reviews(450)\n",
    "print(len(df))\n",
    "df.head()"
   ]
  },
  {
   "cell_type": "code",
   "execution_count": 28,
   "id": "93a17084",
   "metadata": {},
   "outputs": [],
   "source": [
    "# Save raw data\n",
    "os.makedirs('../data/raw', exist_ok=True)\n",
    "df.to_csv(raw_path, index=False)"
   ]
  },
  {
   "cell_type": "code",
   "execution_count": 5,
   "id": "ec3073d9",
   "metadata": {},
   "outputs": [
    {
     "data": {
      "text/html": [
       "<div>\n",
       "<style scoped>\n",
       "    .dataframe tbody tr th:only-of-type {\n",
       "        vertical-align: middle;\n",
       "    }\n",
       "\n",
       "    .dataframe tbody tr th {\n",
       "        vertical-align: top;\n",
       "    }\n",
       "\n",
       "    .dataframe thead th {\n",
       "        text-align: right;\n",
       "    }\n",
       "</style>\n",
       "<table border=\"1\" class=\"dataframe\">\n",
       "  <thead>\n",
       "    <tr style=\"text-align: right;\">\n",
       "      <th></th>\n",
       "      <th>review</th>\n",
       "      <th>rating</th>\n",
       "      <th>date</th>\n",
       "      <th>bank</th>\n",
       "      <th>source</th>\n",
       "    </tr>\n",
       "  </thead>\n",
       "  <tbody>\n",
       "    <tr>\n",
       "      <th>0</th>\n",
       "      <td>kalid</td>\n",
       "      <td>5</td>\n",
       "      <td>2025-06-08 00:04:22</td>\n",
       "      <td>Dashen Bank</td>\n",
       "      <td>Google Play</td>\n",
       "    </tr>\n",
       "    <tr>\n",
       "      <th>1</th>\n",
       "      <td>I like this mobile banking app very much. Over...</td>\n",
       "      <td>2</td>\n",
       "      <td>2025-06-07 10:40:29</td>\n",
       "      <td>Dashen Bank</td>\n",
       "      <td>Google Play</td>\n",
       "    </tr>\n",
       "    <tr>\n",
       "      <th>2</th>\n",
       "      <td>love</td>\n",
       "      <td>3</td>\n",
       "      <td>2025-06-06 00:15:44</td>\n",
       "      <td>Dashen Bank</td>\n",
       "      <td>Google Play</td>\n",
       "    </tr>\n",
       "    <tr>\n",
       "      <th>3</th>\n",
       "      <td>መቸሸጠ</td>\n",
       "      <td>5</td>\n",
       "      <td>2025-06-03 19:40:31</td>\n",
       "      <td>Dashen Bank</td>\n",
       "      <td>Google Play</td>\n",
       "    </tr>\n",
       "    <tr>\n",
       "      <th>4</th>\n",
       "      <td>wow</td>\n",
       "      <td>5</td>\n",
       "      <td>2025-06-03 17:30:11</td>\n",
       "      <td>Dashen Bank</td>\n",
       "      <td>Google Play</td>\n",
       "    </tr>\n",
       "    <tr>\n",
       "      <th>...</th>\n",
       "      <td>...</td>\n",
       "      <td>...</td>\n",
       "      <td>...</td>\n",
       "      <td>...</td>\n",
       "      <td>...</td>\n",
       "    </tr>\n",
       "    <tr>\n",
       "      <th>445</th>\n",
       "      <td>Best</td>\n",
       "      <td>5</td>\n",
       "      <td>2025-01-13 21:11:58</td>\n",
       "      <td>Dashen Bank</td>\n",
       "      <td>Google Play</td>\n",
       "    </tr>\n",
       "    <tr>\n",
       "      <th>446</th>\n",
       "      <td>Waw Great and innovated,user friendly, always ...</td>\n",
       "      <td>5</td>\n",
       "      <td>2025-01-13 21:01:12</td>\n",
       "      <td>Dashen Bank</td>\n",
       "      <td>Google Play</td>\n",
       "    </tr>\n",
       "    <tr>\n",
       "      <th>447</th>\n",
       "      <td>It's Best waww 🙏</td>\n",
       "      <td>5</td>\n",
       "      <td>2025-01-13 09:37:19</td>\n",
       "      <td>Dashen Bank</td>\n",
       "      <td>Google Play</td>\n",
       "    </tr>\n",
       "    <tr>\n",
       "      <th>448</th>\n",
       "      <td>Always one step ahead</td>\n",
       "      <td>5</td>\n",
       "      <td>2025-01-13 09:15:03</td>\n",
       "      <td>Dashen Bank</td>\n",
       "      <td>Google Play</td>\n",
       "    </tr>\n",
       "    <tr>\n",
       "      <th>449</th>\n",
       "      <td>Like Me, I Hope It Works Better Than Before.</td>\n",
       "      <td>5</td>\n",
       "      <td>2025-01-11 11:36:49</td>\n",
       "      <td>Dashen Bank</td>\n",
       "      <td>Google Play</td>\n",
       "    </tr>\n",
       "  </tbody>\n",
       "</table>\n",
       "<p>450 rows × 5 columns</p>\n",
       "</div>"
      ],
      "text/plain": [
       "                                                review  rating  \\\n",
       "0                                                kalid       5   \n",
       "1    I like this mobile banking app very much. Over...       2   \n",
       "2                                                 love       3   \n",
       "3                                                 መቸሸጠ       5   \n",
       "4                                                  wow       5   \n",
       "..                                                 ...     ...   \n",
       "445                                               Best       5   \n",
       "446  Waw Great and innovated,user friendly, always ...       5   \n",
       "447                                   It's Best waww 🙏       5   \n",
       "448                              Always one step ahead       5   \n",
       "449       Like Me, I Hope It Works Better Than Before.       5   \n",
       "\n",
       "                   date         bank       source  \n",
       "0   2025-06-08 00:04:22  Dashen Bank  Google Play  \n",
       "1   2025-06-07 10:40:29  Dashen Bank  Google Play  \n",
       "2   2025-06-06 00:15:44  Dashen Bank  Google Play  \n",
       "3   2025-06-03 19:40:31  Dashen Bank  Google Play  \n",
       "4   2025-06-03 17:30:11  Dashen Bank  Google Play  \n",
       "..                  ...          ...          ...  \n",
       "445 2025-01-13 21:11:58  Dashen Bank  Google Play  \n",
       "446 2025-01-13 21:01:12  Dashen Bank  Google Play  \n",
       "447 2025-01-13 09:37:19  Dashen Bank  Google Play  \n",
       "448 2025-01-13 09:15:03  Dashen Bank  Google Play  \n",
       "449 2025-01-11 11:36:49  Dashen Bank  Google Play  \n",
       "\n",
       "[450 rows x 5 columns]"
      ]
     },
     "execution_count": 5,
     "metadata": {},
     "output_type": "execute_result"
    }
   ],
   "source": [
    "df.dropna()\n",
    "df.drop_duplicates()"
   ]
  },
  {
   "cell_type": "code",
   "execution_count": 21,
   "id": "f54bb0cf",
   "metadata": {},
   "outputs": [
    {
     "name": "stdout",
     "output_type": "stream",
     "text": [
      "<class 'pandas.core.frame.DataFrame'>\n",
      "RangeIndex: 450 entries, 0 to 449\n",
      "Data columns (total 5 columns):\n",
      " #   Column  Non-Null Count  Dtype         \n",
      "---  ------  --------------  -----         \n",
      " 0   review  450 non-null    object        \n",
      " 1   rating  450 non-null    int64         \n",
      " 2   date    450 non-null    datetime64[ns]\n",
      " 3   bank    450 non-null    object        \n",
      " 4   source  450 non-null    object        \n",
      "dtypes: datetime64[ns](1), int64(1), object(3)\n",
      "memory usage: 17.7+ KB\n"
     ]
    }
   ],
   "source": [
    "df.info()"
   ]
  },
  {
   "cell_type": "code",
   "execution_count": 22,
   "id": "b7f718f7",
   "metadata": {},
   "outputs": [
    {
     "data": {
      "text/plain": [
       "rating\n",
       "5    362\n",
       "1     34\n",
       "4     24\n",
       "2     18\n",
       "3     12\n",
       "Name: count, dtype: int64"
      ]
     },
     "execution_count": 22,
     "metadata": {},
     "output_type": "execute_result"
    }
   ],
   "source": [
    "df.value_counts('rating')"
   ]
  },
  {
   "cell_type": "code",
   "execution_count": 7,
   "id": "9afd43f9",
   "metadata": {},
   "outputs": [
    {
     "name": "stdout",
     "output_type": "stream",
     "text": [
      "4.471111111111111\n"
     ]
    }
   ],
   "source": [
    "print(df['rating'].mean())"
   ]
  },
  {
   "cell_type": "code",
   "execution_count": 4,
   "id": "048fdf71",
   "metadata": {},
   "outputs": [],
   "source": [
    "#for consistent result\n",
    "DetectorFactory.seed = 0"
   ]
  },
  {
   "cell_type": "code",
   "execution_count": 5,
   "id": "c967c1ab",
   "metadata": {},
   "outputs": [],
   "source": [
    "def detect_language(review):\n",
    "    try:\n",
    "        return detect(review)\n",
    "    except LangDetectException:\n",
    "        return \"error\"\n"
   ]
  },
  {
   "cell_type": "code",
   "execution_count": 6,
   "id": "b5147da7",
   "metadata": {},
   "outputs": [],
   "source": [
    "df['language'] = df['review'].apply(detect_language)"
   ]
  },
  {
   "cell_type": "code",
   "execution_count": 7,
   "id": "d3c3a4ec",
   "metadata": {},
   "outputs": [],
   "source": [
    "df_clean = df[df['language'] == 'en'].drop(columns='language')"
   ]
  },
  {
   "cell_type": "code",
   "execution_count": 8,
   "id": "7d701a25",
   "metadata": {},
   "outputs": [
    {
     "name": "stdout",
     "output_type": "stream",
     "text": [
      "<class 'pandas.core.frame.DataFrame'>\n",
      "Index: 317 entries, 0 to 449\n",
      "Data columns (total 5 columns):\n",
      " #   Column  Non-Null Count  Dtype         \n",
      "---  ------  --------------  -----         \n",
      " 0   review  317 non-null    object        \n",
      " 1   rating  317 non-null    int64         \n",
      " 2   date    317 non-null    datetime64[ns]\n",
      " 3   bank    317 non-null    object        \n",
      " 4   source  317 non-null    object        \n",
      "dtypes: datetime64[ns](1), int64(1), object(3)\n",
      "memory usage: 14.9+ KB\n",
      "None\n"
     ]
    }
   ],
   "source": [
    "print(df_clean.info())"
   ]
  },
  {
   "cell_type": "code",
   "execution_count": 9,
   "id": "bb547af0",
   "metadata": {},
   "outputs": [
    {
     "data": {
      "text/plain": [
       "review    317\n",
       "rating    317\n",
       "date      317\n",
       "bank      317\n",
       "source    317\n",
       "dtype: int64"
      ]
     },
     "execution_count": 9,
     "metadata": {},
     "output_type": "execute_result"
    }
   ],
   "source": [
    "df_clean.count()"
   ]
  },
  {
   "cell_type": "code",
   "execution_count": 10,
   "id": "e7f024d0",
   "metadata": {},
   "outputs": [
    {
     "data": {
      "text/plain": [
       "review    0\n",
       "rating    0\n",
       "date      0\n",
       "bank      0\n",
       "source    0\n",
       "dtype: int64"
      ]
     },
     "execution_count": 10,
     "metadata": {},
     "output_type": "execute_result"
    }
   ],
   "source": [
    "df_clean.isnull().sum()"
   ]
  },
  {
   "cell_type": "code",
   "execution_count": 11,
   "id": "3c8f2857",
   "metadata": {},
   "outputs": [
    {
     "data": {
      "text/plain": [
       "(317, 5)"
      ]
     },
     "execution_count": 11,
     "metadata": {},
     "output_type": "execute_result"
    }
   ],
   "source": [
    "df_clean.shape"
   ]
  },
  {
   "cell_type": "code",
   "execution_count": 12,
   "id": "cbeeae21",
   "metadata": {},
   "outputs": [],
   "source": [
    "df_clean.to_csv('cleaned_data.csv', index=False)"
   ]
  },
  {
   "cell_type": "code",
   "execution_count": 13,
   "id": "b073bcf4",
   "metadata": {},
   "outputs": [
    {
     "name": "stderr",
     "output_type": "stream",
     "text": [
      "[nltk_data] Downloading package vader_lexicon to\n",
      "[nltk_data]     C:\\Users\\pc\\AppData\\Roaming\\nltk_data...\n",
      "[nltk_data]   Package vader_lexicon is already up-to-date!\n"
     ]
    }
   ],
   "source": [
    "nltk.download('vader_lexicon')\n",
    "sia = SentimentIntensityAnalyzer()"
   ]
  },
  {
   "cell_type": "code",
   "execution_count": 14,
   "id": "0c586e81",
   "metadata": {},
   "outputs": [],
   "source": [
    "# Function to classify sentiment\n",
    "def get_sentiment(score):\n",
    "    if score > 0.05:\n",
    "        return 'Positive'\n",
    "    elif score < -0.05:\n",
    "        return 'Negative'\n",
    "    else:\n",
    "        return 'Neutral'"
   ]
  },
  {
   "cell_type": "code",
   "execution_count": 15,
   "id": "71fc7dc9",
   "metadata": {},
   "outputs": [],
   "source": [
    "df_clean['review'] = df_clean['review'].astype(str)"
   ]
  },
  {
   "cell_type": "code",
   "execution_count": 16,
   "id": "f1bf843a",
   "metadata": {},
   "outputs": [],
   "source": [
    "df_clean['sentiment_score'] = df_clean['review'].apply(lambda x: sia.polarity_scores(x)['compound'])\n",
    "df_clean['sentiment'] = df_clean['sentiment_score'].apply(get_sentiment)"
   ]
  },
  {
   "cell_type": "code",
   "execution_count": 17,
   "id": "20a97e86",
   "metadata": {},
   "outputs": [
    {
     "data": {
      "text/html": [
       "<div>\n",
       "<style scoped>\n",
       "    .dataframe tbody tr th:only-of-type {\n",
       "        vertical-align: middle;\n",
       "    }\n",
       "\n",
       "    .dataframe tbody tr th {\n",
       "        vertical-align: top;\n",
       "    }\n",
       "\n",
       "    .dataframe thead th {\n",
       "        text-align: right;\n",
       "    }\n",
       "</style>\n",
       "<table border=\"1\" class=\"dataframe\">\n",
       "  <thead>\n",
       "    <tr style=\"text-align: right;\">\n",
       "      <th></th>\n",
       "      <th>review</th>\n",
       "      <th>rating</th>\n",
       "      <th>date</th>\n",
       "      <th>bank</th>\n",
       "      <th>source</th>\n",
       "      <th>sentiment_score</th>\n",
       "      <th>sentiment</th>\n",
       "    </tr>\n",
       "  </thead>\n",
       "  <tbody>\n",
       "    <tr>\n",
       "      <th>0</th>\n",
       "      <td>this app is good for you guys</td>\n",
       "      <td>5</td>\n",
       "      <td>2025-06-09 11:49:55</td>\n",
       "      <td>Dashen Bank</td>\n",
       "      <td>Google Play</td>\n",
       "      <td>0.4404</td>\n",
       "      <td>Positive</td>\n",
       "    </tr>\n",
       "    <tr>\n",
       "      <th>3</th>\n",
       "      <td>I like this mobile banking app very much. Over...</td>\n",
       "      <td>2</td>\n",
       "      <td>2025-06-07 10:40:29</td>\n",
       "      <td>Dashen Bank</td>\n",
       "      <td>Google Play</td>\n",
       "      <td>0.5106</td>\n",
       "      <td>Positive</td>\n",
       "    </tr>\n",
       "    <tr>\n",
       "      <th>8</th>\n",
       "      <td>Massive upgrade from the Amole app.</td>\n",
       "      <td>5</td>\n",
       "      <td>2025-05-31 23:04:04</td>\n",
       "      <td>Dashen Bank</td>\n",
       "      <td>Google Play</td>\n",
       "      <td>0.0000</td>\n",
       "      <td>Neutral</td>\n",
       "    </tr>\n",
       "    <tr>\n",
       "      <th>10</th>\n",
       "      <td>very good for this app</td>\n",
       "      <td>5</td>\n",
       "      <td>2025-05-31 21:03:18</td>\n",
       "      <td>Dashen Bank</td>\n",
       "      <td>Google Play</td>\n",
       "      <td>0.4927</td>\n",
       "      <td>Positive</td>\n",
       "    </tr>\n",
       "    <tr>\n",
       "      <th>11</th>\n",
       "      <td>top</td>\n",
       "      <td>5</td>\n",
       "      <td>2025-05-31 20:25:21</td>\n",
       "      <td>Dashen Bank</td>\n",
       "      <td>Google Play</td>\n",
       "      <td>0.2023</td>\n",
       "      <td>Positive</td>\n",
       "    </tr>\n",
       "    <tr>\n",
       "      <th>...</th>\n",
       "      <td>...</td>\n",
       "      <td>...</td>\n",
       "      <td>...</td>\n",
       "      <td>...</td>\n",
       "      <td>...</td>\n",
       "      <td>...</td>\n",
       "      <td>...</td>\n",
       "    </tr>\n",
       "    <tr>\n",
       "      <th>442</th>\n",
       "      <td>The best Banking app I have ever seen</td>\n",
       "      <td>5</td>\n",
       "      <td>2025-01-14 18:57:03</td>\n",
       "      <td>Dashen Bank</td>\n",
       "      <td>Google Play</td>\n",
       "      <td>0.6369</td>\n",
       "      <td>Positive</td>\n",
       "    </tr>\n",
       "    <tr>\n",
       "      <th>443</th>\n",
       "      <td>It looks good and simple to use</td>\n",
       "      <td>5</td>\n",
       "      <td>2025-01-14 18:56:03</td>\n",
       "      <td>Dashen Bank</td>\n",
       "      <td>Google Play</td>\n",
       "      <td>0.4404</td>\n",
       "      <td>Positive</td>\n",
       "    </tr>\n",
       "    <tr>\n",
       "      <th>445</th>\n",
       "      <td>App That makes Difference!</td>\n",
       "      <td>5</td>\n",
       "      <td>2025-01-14 18:32:11</td>\n",
       "      <td>Dashen Bank</td>\n",
       "      <td>Google Play</td>\n",
       "      <td>0.0000</td>\n",
       "      <td>Neutral</td>\n",
       "    </tr>\n",
       "    <tr>\n",
       "      <th>448</th>\n",
       "      <td>Waw Great and innovated,user friendly, always ...</td>\n",
       "      <td>5</td>\n",
       "      <td>2025-01-13 21:01:12</td>\n",
       "      <td>Dashen Bank</td>\n",
       "      <td>Google Play</td>\n",
       "      <td>0.8074</td>\n",
       "      <td>Positive</td>\n",
       "    </tr>\n",
       "    <tr>\n",
       "      <th>449</th>\n",
       "      <td>It's Best waww 🙏</td>\n",
       "      <td>5</td>\n",
       "      <td>2025-01-13 09:37:19</td>\n",
       "      <td>Dashen Bank</td>\n",
       "      <td>Google Play</td>\n",
       "      <td>0.6369</td>\n",
       "      <td>Positive</td>\n",
       "    </tr>\n",
       "  </tbody>\n",
       "</table>\n",
       "<p>317 rows × 7 columns</p>\n",
       "</div>"
      ],
      "text/plain": [
       "                                                review  rating  \\\n",
       "0                        this app is good for you guys       5   \n",
       "3    I like this mobile banking app very much. Over...       2   \n",
       "8                  Massive upgrade from the Amole app.       5   \n",
       "10                              very good for this app       5   \n",
       "11                                                 top       5   \n",
       "..                                                 ...     ...   \n",
       "442              The best Banking app I have ever seen       5   \n",
       "443                    It looks good and simple to use       5   \n",
       "445                         App That makes Difference!       5   \n",
       "448  Waw Great and innovated,user friendly, always ...       5   \n",
       "449                                   It's Best waww 🙏       5   \n",
       "\n",
       "                   date         bank       source  sentiment_score sentiment  \n",
       "0   2025-06-09 11:49:55  Dashen Bank  Google Play           0.4404  Positive  \n",
       "3   2025-06-07 10:40:29  Dashen Bank  Google Play           0.5106  Positive  \n",
       "8   2025-05-31 23:04:04  Dashen Bank  Google Play           0.0000   Neutral  \n",
       "10  2025-05-31 21:03:18  Dashen Bank  Google Play           0.4927  Positive  \n",
       "11  2025-05-31 20:25:21  Dashen Bank  Google Play           0.2023  Positive  \n",
       "..                  ...          ...          ...              ...       ...  \n",
       "442 2025-01-14 18:57:03  Dashen Bank  Google Play           0.6369  Positive  \n",
       "443 2025-01-14 18:56:03  Dashen Bank  Google Play           0.4404  Positive  \n",
       "445 2025-01-14 18:32:11  Dashen Bank  Google Play           0.0000   Neutral  \n",
       "448 2025-01-13 21:01:12  Dashen Bank  Google Play           0.8074  Positive  \n",
       "449 2025-01-13 09:37:19  Dashen Bank  Google Play           0.6369  Positive  \n",
       "\n",
       "[317 rows x 7 columns]"
      ]
     },
     "execution_count": 17,
     "metadata": {},
     "output_type": "execute_result"
    }
   ],
   "source": [
    "df_clean"
   ]
  },
  {
   "cell_type": "code",
   "execution_count": 18,
   "id": "044c23b7",
   "metadata": {},
   "outputs": [],
   "source": [
    "sentiment_counts = df_clean['sentiment'].value_counts()"
   ]
  },
  {
   "cell_type": "code",
   "execution_count": 19,
   "id": "1505d6b2",
   "metadata": {},
   "outputs": [
    {
     "data": {
      "image/png": "[encoded data removed]",
      "text/plain": [
       "<Figure size 600x400 with 1 Axes>"
      ]
     },
     "metadata": {},
     "output_type": "display_data"
    }
   ],
   "source": [
    "plt.figure(figsize=(6, 4))\n",
    "plt.bar(sentiment_counts.index, sentiment_counts.values, color=['green', 'blue', 'red'])\n",
    "plt.title('Sentiment Distribution of CBE')\n",
    "plt.xlabel('Sentiment')\n",
    "plt.ylabel('Number of Reviews')\n",
    "plt.grid(axis='y', linestyle='--', alpha=0.6)\n",
    "plt.tight_layout()\n",
    "plt.show()"
   ]
  },
  {
   "cell_type": "code",
   "execution_count": null,
   "id": "df4eea0e",
   "metadata": {},
   "outputs": [],
   "source": []
  },
  {
   "cell_type": "code",
   "execution_count": null,
   "id": "787cac6c",
   "metadata": {},
   "outputs": [],
   "source": []
  }
 ],
 "metadata": {
  "kernelspec": {
   "display_name": "venv",
   "language": "python",
   "name": "python3"
  },
  "language_info": {
   "codemirror_mode": {
    "name": "ipython",
    "version": 3
   },
   "file_extension": ".py",
   "mimetype": "text/x-python",
   "name": "python",
   "nbconvert_exporter": "python",
   "pygments_lexer": "ipython3",
   "version": "3.12.3"
  }
 },
 "nbformat": 4,
 "nbformat_minor": 5
}
